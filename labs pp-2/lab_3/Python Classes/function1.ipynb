{
 "cells": [
  {
   "cell_type": "markdown",
   "id": "f0168025-1fa9-42ec-ac3d-7f8a735676d9",
   "metadata": {},
   "source": [
    "Exersice 1"
   ]
  },
  {
   "cell_type": "code",
   "execution_count": 1,
   "id": "0df3b3a1-0dca-4d62-a131-7bc5d9c779c4",
   "metadata": {},
   "outputs": [
    {
     "name": "stdin",
     "output_type": "stream",
     "text": [
      "enter gram:  45\n"
     ]
    },
    {
     "name": "stdout",
     "output_type": "stream",
     "text": [
      "ounce is  1275.7285395\n"
     ]
    }
   ],
   "source": [
    "def grams_to_ounces(gram):\n",
    "    ounces = 28.3495231 * gram\n",
    "    return ounces\n",
    "gram=float(input(\"enter gram: \"))\n",
    "print(\"ounce is \", grams_to_ounces(gram))"
   ]
  },
  {
   "cell_type": "markdown",
   "id": "951ded67-0aba-478d-a65c-4c4fe937159e",
   "metadata": {},
   "source": [
    "Exersice 2"
   ]
  },
  {
   "cell_type": "code",
   "execution_count": 3,
   "id": "161b3cbb-b067-4e70-aa81-8b4e2f581d69",
   "metadata": {},
   "outputs": [
    {
     "name": "stdin",
     "output_type": "stream",
     "text": [
      "enter Fahrenheit temperature:  45\n"
     ]
    },
    {
     "name": "stdout",
     "output_type": "stream",
     "text": [
      "centigrade temperature is  7.222222222222222\n"
     ]
    }
   ],
   "source": [
    "def faren_to_cel(F):\n",
    "    c=(5/9)*(F-32)\n",
    "    return c\n",
    "F=float(input(\"enter Fahrenheit temperature: \"))\n",
    "print(\"centigrade temperature is \", faren_to_cel(F))"
   ]
  },
  {
   "cell_type": "markdown",
   "id": "e07092eb-29c5-49d3-8022-297add2a965c",
   "metadata": {},
   "source": [
    "Exersice 3"
   ]
  },
  {
   "cell_type": "code",
   "execution_count": 5,
   "id": "60e8b1c7-fe44-4a66-b891-f4862a8cb4ce",
   "metadata": {},
   "outputs": [
    {
     "name": "stdout",
     "output_type": "stream",
     "text": [
      "chickens are 23, rabbits are 12\n"
     ]
    }
   ],
   "source": [
    "def solve(numheads, numlegs):\n",
    "    for i in range(1, numheads):\n",
    "        if i*2+(numheads-i)*4==numlegs:\n",
    "            return f\"chickens are {i}, rabbits are {numheads-i}\"\n",
    "print(solve(35, 94))"
   ]
  },
  {
   "cell_type": "markdown",
   "id": "5a754118-b81e-4b95-b221-a831ca691c8e",
   "metadata": {},
   "source": [
    "Exersice 4"
   ]
  },
  {
   "cell_type": "code",
   "execution_count": 7,
   "id": "81d8bc30-b960-4238-9e2a-b5f58b5f0aa4",
   "metadata": {},
   "outputs": [
    {
     "name": "stdin",
     "output_type": "stream",
     "text": [
      "enter list numbers:  5 4 9 8 6 14 11\n"
     ]
    },
    {
     "name": "stdout",
     "output_type": "stream",
     "text": [
      "Prime numbers: [5, 11]\n"
     ]
    }
   ],
   "source": [
    "def is_prime(num):\n",
    "    if num < 2:\n",
    "        return False\n",
    "    for i in range(2, int(num**0.5) + 1):\n",
    "        if num % i == 0:\n",
    "            return False\n",
    "    return True\n",
    "\n",
    "def filter_prime(numbers):\n",
    "    return list(filter(is_prime, numbers))\n",
    "\n",
    "numbers_str = input(\"enter list numbers: \")\n",
    "numbers_list = list(map(int, numbers_str.split()))\n",
    "\n",
    "prime_numbers = filter_prime(numbers_list)\n",
    "print(\"Prime numbers:\", prime_numbers)"
   ]
  },
  {
   "cell_type": "markdown",
   "id": "3c315c0f-e110-45b7-9eca-6e038efcd46f",
   "metadata": {},
   "source": [
    "Exersice 5"
   ]
  },
  {
   "cell_type": "code",
   "execution_count": 9,
   "id": "92fd40ac-491e-4872-885f-65d7f9ee53f3",
   "metadata": {},
   "outputs": [
    {
     "name": "stdin",
     "output_type": "stream",
     "text": [
      "enter a string:  abc\n"
     ]
    },
    {
     "name": "stdout",
     "output_type": "stream",
     "text": [
      "a b c \n",
      "a c b \n",
      "c a b \n",
      "b a c \n",
      "b c a \n",
      "c b a \n"
     ]
    }
   ],
   "source": [
    "def permutation(word):\n",
    "    n=len(word)\n",
    "    for i in range(n):\n",
    "        for j in range(n):\n",
    "            print(word[(j-i)], end=\" \")\n",
    "        print()\n",
    "        for k in range(n):\n",
    "            print(word[(i-k)], end=\" \")\n",
    "        print()\n",
    "word=input(\"enter a string: \")\n",
    "permutation(word)"
   ]
  },
  {
   "cell_type": "markdown",
   "id": "73a2f9a2-b391-4b6a-90fd-521e3d910531",
   "metadata": {},
   "source": [
    "Exersice 6"
   ]
  },
  {
   "cell_type": "code",
   "execution_count": 11,
   "id": "3d2efc45-9a47-4bfc-a2a3-5a3fe98778af",
   "metadata": {},
   "outputs": [
    {
     "name": "stdin",
     "output_type": "stream",
     "text": [
      "enter sentence:  We are ready\n"
     ]
    },
    {
     "name": "stdout",
     "output_type": "stream",
     "text": [
      "ready are We "
     ]
    }
   ],
   "source": [
    "def reverse_sentence(sentence):\n",
    "    sentence=list(sentence.split())\n",
    "    sentence.reverse()\n",
    "    for i in sentence:\n",
    "        print(i, end=\" \")\n",
    "str=input(\"enter sentence: \")\n",
    "reverse_sentence(str)"
   ]
  },
  {
   "cell_type": "markdown",
   "id": "47a73b3f-868d-41f4-affd-0a959e9edb29",
   "metadata": {},
   "source": [
    "Exersice 7"
   ]
  },
  {
   "cell_type": "code",
   "execution_count": 13,
   "id": "fb613f47-897b-4468-abd6-c5565f0bd301",
   "metadata": {},
   "outputs": [
    {
     "name": "stdout",
     "output_type": "stream",
     "text": [
      "True\n",
      "False\n",
      "False\n"
     ]
    }
   ],
   "source": [
    "def has_33(nums):\n",
    "    for i in range(len(nums)-1):\n",
    "        if nums[i]==3 and nums[i+1]==3:\n",
    "            return True\n",
    "    return False\n",
    "print(has_33([1, 3, 3]))\n",
    "print(has_33([1, 3, 1, 3]))\n",
    "print(has_33([3, 1, 3]))"
   ]
  },
  {
   "cell_type": "markdown",
   "id": "dd4e22b0-17ca-42f1-ab79-f3d639c246bc",
   "metadata": {},
   "source": [
    "Exersice 8"
   ]
  },
  {
   "cell_type": "code",
   "execution_count": 15,
   "id": "e3aea79b-78f2-414e-a6df-a052e5b08491",
   "metadata": {},
   "outputs": [
    {
     "name": "stdout",
     "output_type": "stream",
     "text": [
      "True\n",
      "True\n",
      "False\n"
     ]
    }
   ],
   "source": [
    "def spy_game(list_nums):\n",
    "    code = [0, 0, 7] \n",
    "    code_index = 0\n",
    "    for i in list_nums:\n",
    "        if i == code[code_index]:  \n",
    "            code_index += 1          \n",
    "        if code_index == len(code):  \n",
    "            return True\n",
    "    return False\n",
    "print(spy_game([1,2,4,0,0,7,5]))\n",
    "print(spy_game([1,0,2,4,0,5,7]))\n",
    "print(spy_game([1,7,2,0,4,5,0]))"
   ]
  },
  {
   "cell_type": "markdown",
   "id": "86ccf6a1-f2aa-428a-8d5f-df69c5bcc451",
   "metadata": {},
   "source": [
    "Exersice 9"
   ]
  },
  {
   "cell_type": "code",
   "execution_count": 17,
   "id": "017b03ca-8940-4938-945f-82b1829efa2d",
   "metadata": {},
   "outputs": [
    {
     "name": "stdin",
     "output_type": "stream",
     "text": [
      "enter radius:  3\n"
     ]
    },
    {
     "name": "stdout",
     "output_type": "stream",
     "text": [
      "113.09733552923254\n"
     ]
    }
   ],
   "source": [
    "import math\n",
    "def volume_of_sphere(rad):\n",
    "    v=(4/3)*math.pi*rad**3\n",
    "    return v\n",
    "rad=float(input(\"enter radius: \"))\n",
    "print(volume_of_sphere(rad))"
   ]
  },
  {
   "cell_type": "markdown",
   "id": "fa4fc79c-1ea6-4395-90ca-fe197799b9e8",
   "metadata": {},
   "source": [
    "Exersice 10"
   ]
  },
  {
   "cell_type": "code",
   "execution_count": 19,
   "id": "ae3dcb2f-e57e-43d5-a261-046235e221a4",
   "metadata": {},
   "outputs": [
    {
     "name": "stdin",
     "output_type": "stream",
     "text": [
      "enter size of list:  5\n",
      "enter a number for a list:  1\n",
      "enter a number for a list:  4\n",
      "enter a number for a list:  2\n",
      "enter a number for a list:  3\n",
      "enter a number for a list:  4\n"
     ]
    },
    {
     "name": "stdout",
     "output_type": "stream",
     "text": [
      "unique elements are:  [1, 4, 2, 3]\n"
     ]
    }
   ],
   "source": [
    "def unique_list(list):\n",
    "    result_list=[]\n",
    "    for i in list:\n",
    "        if i not in result_list:\n",
    "            result_list.append(i)\n",
    "    return result_list\n",
    "\n",
    "n=int(input(\"enter size of list: \"))\n",
    "list=[]\n",
    "for i in range(n):\n",
    "    number=int(input(\"enter a number for a list: \"))\n",
    "    list.append(number)\n",
    "print(\"unique elements are: \",unique_list(list))"
   ]
  },
  {
   "cell_type": "markdown",
   "id": "c7a9fcd9-8342-4ad9-afc8-ea843a35ff59",
   "metadata": {},
   "source": [
    "Exersice 11"
   ]
  },
  {
   "cell_type": "code",
   "execution_count": 21,
   "id": "feb812d5-9c21-4234-8edc-9be47b4a93b0",
   "metadata": {},
   "outputs": [
    {
     "name": "stdin",
     "output_type": "stream",
     "text": [
      "enter word or phrase to check:  қазақ\n"
     ]
    },
    {
     "name": "stdout",
     "output_type": "stream",
     "text": [
      "Yes, it is palindrome\n"
     ]
    }
   ],
   "source": [
    "def palindrom(word):\n",
    "    if word==word[::-1]:\n",
    "        print(\"Yes, it is palindrome\")\n",
    "    else:\n",
    "        print(\"No, it is not a palindrome\")\n",
    "word=input(\"enter word or phrase to check: \")\n",
    "palindrom(word)"
   ]
  },
  {
   "cell_type": "markdown",
   "id": "10a7f5ed-b821-4962-871f-3391dc9aacd5",
   "metadata": {},
   "source": [
    "Exersice 12"
   ]
  },
  {
   "cell_type": "code",
   "execution_count": 23,
   "id": "24a76018-af14-4dfa-b4c0-a61aafc34da1",
   "metadata": {},
   "outputs": [
    {
     "name": "stdin",
     "output_type": "stream",
     "text": [
      "enter size of ur list:  3\n",
      "enter number for ur numbers list:  4\n",
      "enter number for ur numbers list:  9\n",
      "enter number for ur numbers list:  7\n"
     ]
    },
    {
     "name": "stdout",
     "output_type": "stream",
     "text": [
      "****\n",
      "*********\n",
      "*******\n"
     ]
    }
   ],
   "source": [
    "def histogram(nums):\n",
    "    for i in nums:\n",
    "        print(\"*\"*i)\n",
    "n=int(input(\"enter size of ur list: \"))\n",
    "nums=[]\n",
    "for i in range(n):\n",
    "    number=int(input(\"enter number for ur numbers list: \"))\n",
    "    nums.append(number)\n",
    "histogram(nums)"
   ]
  },
  {
   "cell_type": "markdown",
   "id": "b8e1e6d7-37a5-4908-a87d-59445f721c55",
   "metadata": {},
   "source": [
    "Exersice 13"
   ]
  },
  {
   "cell_type": "code",
   "execution_count": 27,
   "id": "48ecd817-7f90-4a97-b4bb-ae7ff8563bd1",
   "metadata": {},
   "outputs": [
    {
     "name": "stdout",
     "output_type": "stream",
     "text": [
      "Hello! What is your name?\n"
     ]
    },
    {
     "name": "stdin",
     "output_type": "stream",
     "text": [
      " zhibek\n"
     ]
    },
    {
     "name": "stdout",
     "output_type": "stream",
     "text": [
      "Well, zhibek, I am thinking of a number between 1 and 20.\n"
     ]
    },
    {
     "name": "stdin",
     "output_type": "stream",
     "text": [
      "Take a guess:  5\n"
     ]
    },
    {
     "name": "stdout",
     "output_type": "stream",
     "text": [
      "Good job, zhibek! You guessed my number in 1 guesses!\n"
     ]
    }
   ],
   "source": [
    "from random import randint\n",
    "def guess_number():\n",
    "    print(\"Hello! What is your name?\")\n",
    "    name = input()\n",
    "    print(f\"Well, {name}, I am thinking of a number between 1 and 20.\")\n",
    "    number = randint(1,20)\n",
    "    sum = 0\n",
    "    run = True\n",
    "    while run:\n",
    "        guess = int(input(\"Take a guess: \"))\n",
    "        sum+=1\n",
    "        if guess == number:\n",
    "            run = False\n",
    "            print(f\"Good job, {name}! You guessed my number in {sum} guesses!\")\n",
    "            break\n",
    "        if guess>number:\n",
    "            print(\"Your guess is too high.\")\n",
    "        else:\n",
    "            print(\"Your guess is too low\")\n",
    "guess_number()"
   ]
  },
  {
   "cell_type": "markdown",
   "id": "a34d50fa-cb3a-4e32-8eb5-b95de1ed2b4e",
   "metadata": {},
   "source": [
    "Exersice 14"
   ]
  },
  {
   "cell_type": "code",
   "execution_count": 1,
   "id": "6259728e-6c38-459e-80ea-e451d522aac5",
   "metadata": {},
   "outputs": [
    {
     "name": "stdout",
     "output_type": "stream",
     "text": [
      "[5, 10, 4, 1, 7, 3, 10, 8, 2, 7]\n"
     ]
    }
   ],
   "source": [
    "from random import randint\n",
    "def randomator(start, end, length):\n",
    "    arr=[randint(start, end)for i in range(length)]\n",
    "    print(arr)\n",
    "randomator(1,10,10)"
   ]
  }
 ],
 "metadata": {
  "kernelspec": {
   "display_name": "Python [conda env:base] *",
   "language": "python",
   "name": "conda-base-py"
  },
  "language_info": {
   "codemirror_mode": {
    "name": "ipython",
    "version": 3
   },
   "file_extension": ".py",
   "mimetype": "text/x-python",
   "name": "python",
   "nbconvert_exporter": "python",
   "pygments_lexer": "ipython3",
   "version": "3.12.7"
  }
 },
 "nbformat": 4,
 "nbformat_minor": 5
}
