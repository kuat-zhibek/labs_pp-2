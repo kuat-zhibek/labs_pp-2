{
 "cells": [
  {
   "cell_type": "markdown",
   "id": "8b469a02-49bd-407f-a2ee-145a30c120c6",
   "metadata": {},
   "source": [
    "Exersice 1"
   ]
  },
  {
   "cell_type": "code",
   "execution_count": 6,
   "id": "84028333-721b-4931-8f8b-e3941ccc9d00",
   "metadata": {},
   "outputs": [
    {
     "name": "stdin",
     "output_type": "stream",
     "text": [
      "Enter sentence:  hello world!\n"
     ]
    },
    {
     "name": "stdout",
     "output_type": "stream",
     "text": [
      "with upper case: HELLO WORLD!\n"
     ]
    }
   ],
   "source": [
    "class String:\n",
    "    def getstring(self):\n",
    "        self.sentence=input(\"Enter sentence: \")\n",
    "    def printstring(self):\n",
    "        print(\"with upper case: \"+self.sentence.upper())\n",
    "str=String()\n",
    "str.getstring()\n",
    "str.printstring()"
   ]
  },
  {
   "cell_type": "markdown",
   "id": "45f58dac-8412-4ee4-94aa-82c484e82e90",
   "metadata": {},
   "source": [
    "Exersice 2"
   ]
  },
  {
   "cell_type": "code",
   "execution_count": 16,
   "id": "ad6cdb1f-3b1d-4f50-a8f6-321cee1ee692",
   "metadata": {},
   "outputs": [
    {
     "name": "stdin",
     "output_type": "stream",
     "text": [
      "Input number:  13\n"
     ]
    },
    {
     "name": "stdout",
     "output_type": "stream",
     "text": [
      "square of quadrat is:  169.0\n",
      "shape:  0\n"
     ]
    }
   ],
   "source": [
    "class shape():\n",
    "    def area(self):\n",
    "        return 0\n",
    "class square(shape):\n",
    "    def __init__(self, length):\n",
    "        self.length=length\n",
    "    def area(self):\n",
    "        return self.length**2\n",
    "\n",
    "n=float(input(\"Input number: \"))\n",
    "totalsquare=square(n)\n",
    "print(\"square of quadrat is: \", totalsquare.area())\n",
    "totalshape=shape()\n",
    "print(\"shape: \", totalshape.area())"
   ]
  },
  {
   "cell_type": "markdown",
   "id": "55a0de2d-bbef-492e-85fa-514f43bcde42",
   "metadata": {},
   "source": [
    "Exersice 3"
   ]
  },
  {
   "cell_type": "code",
   "execution_count": 18,
   "id": "a4952cfc-ab61-4e13-83f2-8e1081307973",
   "metadata": {},
   "outputs": [
    {
     "name": "stdin",
     "output_type": "stream",
     "text": [
      "enter length:  13\n",
      "enter width:  10\n"
     ]
    },
    {
     "name": "stdout",
     "output_type": "stream",
     "text": [
      "area of rectangle is:  130.0\n"
     ]
    }
   ],
   "source": [
    "class shape():\n",
    "    def area(self):\n",
    "        return 0\n",
    "class rectangle():\n",
    "    def __init__(self, length, width):\n",
    "        self.length=length\n",
    "        self.width=width\n",
    "    def area(self):\n",
    "        return self.length*self.width\n",
    "\n",
    "length=float(input(\"enter length: \"))\n",
    "width=float(input(\"enter width: \"))\n",
    "square=rectangle(length, width)\n",
    "print(\"area of rectangle is: \", square.area())"
   ]
  },
  {
   "cell_type": "markdown",
   "id": "5ecc40fb-d7d3-49bb-8c98-2ac5c0607c3d",
   "metadata": {},
   "source": [
    "Exersice 4"
   ]
  },
  {
   "cell_type": "code",
   "execution_count": 24,
   "id": "9a65c54b-299a-434d-9d76-7bcb55ec7bed",
   "metadata": {},
   "outputs": [
    {
     "name": "stdin",
     "output_type": "stream",
     "text": [
      "enter x:  5\n",
      "enter y:  4\n"
     ]
    },
    {
     "name": "stdout",
     "output_type": "stream",
     "text": [
      "coordinates: (5.0, 4.0)\n"
     ]
    },
    {
     "name": "stdin",
     "output_type": "stream",
     "text": [
      "enter x1:  4\n",
      "enter y1:  2\n"
     ]
    },
    {
     "name": "stdout",
     "output_type": "stream",
     "text": [
      "coordinates: (4.0, 2.0)\n",
      "distance between 2 points is 2.23606797749979\n"
     ]
    }
   ],
   "source": [
    "import math \n",
    "\n",
    "class point:\n",
    "    def __init__ (self,x,y):\n",
    "        self.x=x\n",
    "        self.y=y\n",
    "    def show(self):\n",
    "        print(f\"coordinates: ({self.x}, {self.y})\")\n",
    "    def move(self, x1, y1):\n",
    "        self.x=x1\n",
    "        self.y=y1\n",
    "    def dist(self, point2):\n",
    "        x_=self.x-point2.x\n",
    "        y_=self.y-point2.y\n",
    "        dis=math.sqrt(x_**2+y_**2)\n",
    "        return dis\n",
    "x=float(input(\"enter x: \"))\n",
    "y=float(input(\"enter y: \"))\n",
    "point1=point(x,y)\n",
    "point2=point(x,y)\n",
    "point1.show()\n",
    "x1=float(input(\"enter x1: \"))\n",
    "y1=float(input(\"enter y1: \"))\n",
    "point1.move(x1, y1)\n",
    "point1.show()\n",
    "\n",
    "dis=point1.dist(point2)\n",
    "print(f\"distance between 2 points is {dis}\")"
   ]
  },
  {
   "cell_type": "markdown",
   "id": "68d3ae1a-5c2e-41e5-8cec-5447f84febba",
   "metadata": {},
   "source": [
    "Exersice 5"
   ]
  },
  {
   "cell_type": "code",
   "execution_count": 32,
   "id": "64701cc7-25ef-48bf-b364-047718498d9b",
   "metadata": {},
   "outputs": [
    {
     "name": "stdout",
     "output_type": "stream",
     "text": [
      "5000\n",
      "owner's name\n",
      "deposit money is 1000\n",
      "your balance is 3000 and u take 3000\n",
      "no funds\n"
     ]
    }
   ],
   "source": [
    "class bank():\n",
    "    def __init__(self, account, money):\n",
    "        self.money=money\n",
    "        self.account=account\n",
    "    def balance(self):\n",
    "        return self.money\n",
    "    def owner(self):\n",
    "        return self.account\n",
    "    def deposit(self, money):\n",
    "        self.money+=money\n",
    "        return f\"deposit money is {money}\"\n",
    "    def withdraw(self, money):\n",
    "        if self.money-money<0:\n",
    "            return \"no funds\"\n",
    "        else:\n",
    "            self.money=money\n",
    "            return f\"your balance is {self.money} and u take {money}\"\n",
    "\n",
    "bank=bank(\"owner's name\", 5000)\n",
    "print(bank.balance())\n",
    "print(bank.owner())\n",
    "print(bank.deposit(1000))\n",
    "print(bank.withdraw(3000))\n",
    "print(bank.withdraw(6000))"
   ]
  },
  {
   "cell_type": "markdown",
   "id": "4bc0c8ec-c49a-4584-b67c-0148fa75abfb",
   "metadata": {},
   "source": [
    "Exarsice 6"
   ]
  },
  {
   "cell_type": "code",
   "execution_count": 44,
   "id": "32f9ca59-3fd5-4fcd-96c6-87bee1ff11d9",
   "metadata": {},
   "outputs": [
    {
     "name": "stdin",
     "output_type": "stream",
     "text": [
      "n:  3\n",
      "number:  12\n",
      "number:  11\n",
      "number:  8\n"
     ]
    },
    {
     "ename": "TypeError",
     "evalue": "'list' object is not callable",
     "output_type": "error",
     "traceback": [
      "\u001b[1;31m---------------------------------------------------------------------------\u001b[0m",
      "\u001b[1;31mTypeError\u001b[0m                                 Traceback (most recent call last)",
      "Cell \u001b[1;32mIn[44], line 23\u001b[0m\n\u001b[0;32m     20\u001b[0m     mylist\u001b[38;5;241m.\u001b[39mappend(number)\n\u001b[0;32m     22\u001b[0m prime_filter \u001b[38;5;241m=\u001b[39m Prime(mylist)\n\u001b[1;32m---> 23\u001b[0m \u001b[38;5;28mprint\u001b[39m(prime_filter\u001b[38;5;241m.\u001b[39mfilter_prime_numbers())\n",
      "Cell \u001b[1;32mIn[44], line 14\u001b[0m, in \u001b[0;36mPrime.filter_prime_numbers\u001b[1;34m(self)\u001b[0m\n\u001b[0;32m     13\u001b[0m \u001b[38;5;28;01mdef\u001b[39;00m \u001b[38;5;21mfilter_prime_numbers\u001b[39m(\u001b[38;5;28mself\u001b[39m):\n\u001b[1;32m---> 14\u001b[0m     \u001b[38;5;28;01mreturn\u001b[39;00m \u001b[38;5;28mlist\u001b[39m(\u001b[38;5;28mfilter\u001b[39m(\u001b[38;5;28;01mlambda\u001b[39;00m x: \u001b[38;5;28mself\u001b[39m\u001b[38;5;241m.\u001b[39mis_prime(x), \u001b[38;5;28mself\u001b[39m\u001b[38;5;241m.\u001b[39mnumbers))\n",
      "\u001b[1;31mTypeError\u001b[0m: 'list' object is not callable"
     ]
    }
   ],
   "source": [
    "class Prime:\n",
    "    def __init__(self, numbers):\n",
    "        self.numbers = numbers\n",
    "\n",
    "    def is_prime(self, num):\n",
    "        if num < 2:\n",
    "            return False\n",
    "        for i in range(2, int(num**0.5) + 1):\n",
    "            if num % i == 0:\n",
    "                return False\n",
    "        return True\n",
    "\n",
    "    def filter_prime_numbers(self):\n",
    "        return list(filter(lambda x: self.is_prime(x), self.numbers))\n",
    "\n",
    "n = int(input(\"n: \"))\n",
    "mylist = []\n",
    "for i in range(n):\n",
    "    number = int(input(\"number: \"))\n",
    "    mylist.append(number)\n",
    "\n",
    "prime_filter = Prime(mylist)\n",
    "print(prime_filter.filter_prime_numbers())"
   ]
  },
  {
   "cell_type": "code",
   "execution_count": null,
   "id": "beb7d50f-890c-4d68-88fd-7c1fdb371f0b",
   "metadata": {},
   "outputs": [],
   "source": []
  },
  {
   "cell_type": "code",
   "execution_count": null,
   "id": "0a03eaca-b3d6-4e94-bed9-8f3408e97404",
   "metadata": {},
   "outputs": [],
   "source": []
  },
  {
   "cell_type": "code",
   "execution_count": null,
   "id": "913eb6cf-1e59-4144-9dd1-e766abb4b19a",
   "metadata": {},
   "outputs": [],
   "source": []
  },
  {
   "cell_type": "code",
   "execution_count": null,
   "id": "613b462a-40e4-4259-811e-765384c01122",
   "metadata": {},
   "outputs": [],
   "source": []
  },
  {
   "cell_type": "code",
   "execution_count": null,
   "id": "d65149a0-1110-4114-a5d6-f8bba42e8861",
   "metadata": {},
   "outputs": [],
   "source": []
  }
 ],
 "metadata": {
  "kernelspec": {
   "display_name": "Python [conda env:base] *",
   "language": "python",
   "name": "conda-base-py"
  },
  "language_info": {
   "codemirror_mode": {
    "name": "ipython",
    "version": 3
   },
   "file_extension": ".py",
   "mimetype": "text/x-python",
   "name": "python",
   "nbconvert_exporter": "python",
   "pygments_lexer": "ipython3",
   "version": "3.12.7"
  }
 },
 "nbformat": 4,
 "nbformat_minor": 5
}
